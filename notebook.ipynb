{
 "cells": [
  {
   "attachments": {},
   "cell_type": "markdown",
   "metadata": {},
   "source": [
    "### Imports"
   ]
  },
  {
   "cell_type": "code",
   "execution_count": null,
   "metadata": {},
   "outputs": [],
   "source": [
    "import os\n",
    "from glob import glob\n",
    "from pprint import pprint\n",
    "from collections import OrderedDict\n",
    "\n",
    "import numpy as np\n",
    "import ipyplot\n",
    "\n",
    "from remove_duplicates import RemoveDuplicates\n",
    "\n",
    "from _utils import foreach_dir, delete_broken_image, delete_junk_files, get_file_ext, sort_dict, print_dict"
   ]
  },
  {
   "attachments": {},
   "cell_type": "markdown",
   "metadata": {},
   "source": [
    "### Config"
   ]
  },
  {
   "cell_type": "code",
   "execution_count": null,
   "metadata": {},
   "outputs": [],
   "source": [
    "ROOT_FOLDER = './my-cool-images'\n",
    "ROOT_FOLDER_GLOB = f'{ROOT_FOLDER}/*'"
   ]
  },
  {
   "attachments": {},
   "cell_type": "markdown",
   "metadata": {},
   "source": [
    "### Delete all junk files before proceeding"
   ]
  },
  {
   "cell_type": "code",
   "execution_count": null,
   "metadata": {},
   "outputs": [],
   "source": [
    "delete_junk_files(ROOT_FOLDER)"
   ]
  },
  {
   "attachments": {},
   "cell_type": "markdown",
   "metadata": {},
   "source": [
    "### Delete duplicate images"
   ]
  },
  {
   "attachments": {},
   "cell_type": "markdown",
   "metadata": {},
   "source": [
    "Search for exact duplicates and display them for visual confirmation (don't delete yet!)"
   ]
  },
  {
   "cell_type": "code",
   "execution_count": null,
   "metadata": {},
   "outputs": [],
   "source": [
    "duplicates = RemoveDuplicates(ROOT_FOLDER_GLOB, 'exact', False)\n",
    "\n",
    "duplicates_found = duplicates.check_duplicates()\n",
    "\n",
    "if duplicates_found:\n",
    "  ipyplot.plot_images(\n",
    "    duplicates_found,\n",
    "    max_images=None,\n",
    "    img_width=150\n",
    "  )"
   ]
  },
  {
   "attachments": {},
   "cell_type": "markdown",
   "metadata": {},
   "source": [
    "If these are all in fact duplicates, delete them!"
   ]
  },
  {
   "cell_type": "code",
   "execution_count": null,
   "metadata": {},
   "outputs": [],
   "source": [
    "# script only deletes when run from cli\n",
    "if duplicates_found:\n",
    "  os.system(f'python ./remove_duplicates.py --cli --exact --delete \"{ROOT_FOLDER_GLOB}\"')"
   ]
  },
  {
   "attachments": {},
   "cell_type": "markdown",
   "metadata": {},
   "source": [
    "Look for more possible duplicates by searching for similar images this time"
   ]
  },
  {
   "cell_type": "code",
   "execution_count": null,
   "metadata": {},
   "outputs": [],
   "source": [
    "similar_images = RemoveDuplicates(ROOT_FOLDER_GLOB, 'similar', False)\n",
    "\n",
    "similar_found = similar_images.check_duplicates()\n",
    "\n",
    "if similar_found:\n",
    "  ipyplot.plot_images(\n",
    "    similar_found,\n",
    "    max_images=None,\n",
    "    img_width=150\n",
    "  )"
   ]
  },
  {
   "attachments": {},
   "cell_type": "markdown",
   "metadata": {},
   "source": [
    "If these too are duplicates delete them as well"
   ]
  },
  {
   "cell_type": "code",
   "execution_count": null,
   "metadata": {},
   "outputs": [],
   "source": [
    "if similar_found:\n",
    "  os.system(f'python ./remove_duplicates.py --cli --similar --delete \"{ROOT_FOLDER_GLOB}\"')"
   ]
  },
  {
   "attachments": {},
   "cell_type": "markdown",
   "metadata": {},
   "source": [
    "### Delete corrupt images that can't be opened"
   ]
  },
  {
   "cell_type": "code",
   "execution_count": null,
   "metadata": {},
   "outputs": [],
   "source": [
    "foreach_dir(ROOT_FOLDER, delete_broken_image, log=False)"
   ]
  },
  {
   "attachments": {},
   "cell_type": "markdown",
   "metadata": {},
   "source": [
    "### Let's get some counts to see where we're at..."
   ]
  },
  {
   "cell_type": "code",
   "execution_count": null,
   "metadata": {},
   "outputs": [],
   "source": [
    "CLASSES = {}\n",
    "EXTENSIONS = {}\n",
    "TOTAL_IMAGES = 0\n",
    "\n",
    "for sub_folder in glob(ROOT_FOLDER_GLOB):\n",
    "  if not os.path.isdir(sub_folder): continue\n",
    "\n",
    "  folder = os.path.basename(sub_folder)\n",
    "  files = os.listdir(sub_folder)\n",
    "  file_count = len(files)\n",
    "\n",
    "  CLASSES[folder] = file_count\n",
    "  TOTAL_IMAGES += file_count\n",
    "\n",
    "  for file in files:\n",
    "    extention = get_file_ext(file)\n",
    "\n",
    "    if extention in EXTENSIONS:\n",
    "      EXTENSIONS[extention] += 1\n",
    "    else:\n",
    "      EXTENSIONS[extention] = 1\n",
    "\n",
    "\n",
    "all_images_counts = sorted(CLASSES.values())\n",
    "mean_image_count = np.array(all_images_counts).mean().round(0)"
   ]
  },
  {
   "attachments": {},
   "cell_type": "markdown",
   "metadata": {},
   "source": [
    "### All image counts per class (sorted form least to greatest)"
   ]
  },
  {
   "cell_type": "code",
   "execution_count": null,
   "metadata": {},
   "outputs": [],
   "source": [
    "ALL_CLASSES = sort_dict(CLASSES)\n",
    "\n",
    "print_dict(ALL_CLASSES, abc_order_keys=False)"
   ]
  },
  {
   "attachments": {},
   "cell_type": "markdown",
   "metadata": {},
   "source": [
    "### Totals, min, max and mode"
   ]
  },
  {
   "cell_type": "code",
   "execution_count": null,
   "metadata": {},
   "outputs": [],
   "source": [
    "TOTAL_CLASSES = len(CLASSES)\n",
    "\n",
    "print(f'Total Classes: {TOTAL_CLASSES}')\n",
    "print(f'Total Images: {TOTAL_IMAGES:,}', '\\n')\n",
    "\n",
    "print(f'Min Images: {all_images_counts[0]}')\n",
    "print(f'Max images: {all_images_counts[-1]}')\n",
    "print(f'Average # of images: {mean_image_count}')"
   ]
  }
 ],
 "metadata": {
  "kernelspec": {
   "display_name": "penny",
   "language": "python",
   "name": "python3"
  },
  "language_info": {
   "codemirror_mode": {
    "name": "ipython",
    "version": 3
   },
   "file_extension": ".py",
   "mimetype": "text/x-python",
   "name": "python",
   "nbconvert_exporter": "python",
   "pygments_lexer": "ipython3",
   "version": "3.9.15 (main, Nov 24 2022, 08:29:02) \n[Clang 14.0.6 ]"
  },
  "vscode": {
   "interpreter": {
    "hash": "ea4383966572d4e012c53f369c16c4b813dcc151309edbdce89030baa0a2ffed"
   }
  }
 },
 "nbformat": 4,
 "nbformat_minor": 2
}
